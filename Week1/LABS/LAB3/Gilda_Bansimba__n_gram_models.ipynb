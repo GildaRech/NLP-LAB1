{
 "cells": [
  {
   "cell_type": "markdown",
   "metadata": {
    "id": "e-0Z4Y6aRcOE"
   },
   "source": [
    "\n",
    "<h1 style=\"font-family:verdana;font-size:300%;text-align:center;background-color:#f2f2f2;color:#0d0d0d\">AMMI NLP - Review sessions</h1>\n",
    "\n",
    "<h1 style=\"font-family:verdana;font-size:180%;text-align:Center;color:#993333\"> Lab 3: n-gram models </h1>"
   ]
  },
  {
   "cell_type": "markdown",
   "metadata": {
    "id": "45AV23YcRcOG"
   },
   "source": [
    "**Big thanks to Amr Khalifa who improved this lab and made it to a Jupyter Notebook!**"
   ]
  },
  {
   "cell_type": "code",
   "execution_count": 30,
   "metadata": {
    "id": "BlE814iARcOG"
   },
   "outputs": [],
   "source": [
    "import io, sys, math, re\n",
    "from collections import defaultdict\n",
    "import numpy as np"
   ]
  },
  {
   "cell_type": "code",
   "execution_count": 31,
   "metadata": {
    "id": "yWJKVXyuRcOH"
   },
   "outputs": [],
   "source": [
    "# data_loader\n",
    "def load_data(filename):\n",
    "    '''\n",
    "    parameters:\n",
    "    filename (string): datafile\n",
    "    \n",
    "    Returns:\n",
    "    data (list of lists): each list is a sentence of the text \n",
    "    vocab (dictionary): {word: no of times it appears in the text}\n",
    "    '''\n",
    "    fin = io.open(filename, 'r', encoding='utf-8')\n",
    "    data = []\n",
    "    vocab = defaultdict(lambda:0)\n",
    "    for line in fin:\n",
    "        sentence = line.split()\n",
    "        data.append(sentence)\n",
    "        for word in sentence:\n",
    "            vocab[word] += 1\n",
    "    return data, vocab"
   ]
  },
  {
   "cell_type": "code",
   "execution_count": 44,
   "metadata": {
    "colab": {
     "base_uri": "https://localhost:8080/"
    },
    "id": "HuC33hMrRcOJ",
    "outputId": "f0755e1d-6928-4b61-8747-e0b659336d3f"
   },
   "outputs": [
    {
     "name": "stdout",
     "output_type": "stream",
     "text": [
      "load training set..\n",
      "\n",
      "\n",
      "['<s>', 'i', 'liked', 'your', 'idea', 'and', 'adopted', 'it', '.', '</s>']\n",
      "\n",
      "\n",
      "how : 3195\n",
      "load validation set\n"
     ]
    }
   ],
   "source": [
    "print(\"load training set..\")\n",
    "print(\"\\n\")\n",
    "train_data, vocab = load_data(\"train2.txt\")\n",
    "print(train_data[0])\n",
    "print(\"\\n\")\n",
    "print(\"how :\",vocab['how'])\n",
    "print(\"load validation set\")\n",
    "valid_data, _ = load_data(\"valid2.txt\")"
   ]
  },
  {
   "cell_type": "code",
   "execution_count": 45,
   "metadata": {
    "id": "jBvSFupGRcOK"
   },
   "outputs": [],
   "source": [
    "def remove_rare_words(data, vocab, mincount = 1):\n",
    "    '''\n",
    "    Parameters:\n",
    "    data (list of lists): each list is a sentence of the text \n",
    "    vocab (dictionary): {word: no of times it appears in the text}\n",
    "    mincount(int): the minimum count \n",
    "    \n",
    "    Returns: \n",
    "    data_with_unk(list of lists): data after replacing rare words with <unk> token\n",
    "    '''\n",
    "    # replace words in data that are not in the vocab \n",
    "    # or have a count that is below mincount\n",
    "    data_with_unk = []\n",
    "    ## FILL CODE\n",
    "    for sentence in data: \n",
    "      liste=[]\n",
    "      #words=sentence[0].split()\n",
    "      for word in sentence:\n",
    "        if word in vocab and vocab[word]>mincount:\n",
    "          liste.append(word)\n",
    "        else:\n",
    "          liste.append(\"<unk>\")\n",
    "      data_with_unk.append(liste)\n",
    "        \n",
    "    return data_with_unk"
   ]
  },
  {
   "cell_type": "code",
   "execution_count": 46,
   "metadata": {
    "colab": {
     "base_uri": "https://localhost:8080/"
    },
    "id": "SE6kJL_ERcOK",
    "outputId": "35259b81-eace-4e0f-8b07-294aa02d70a1"
   },
   "outputs": [
    {
     "name": "stdout",
     "output_type": "stream",
     "text": [
      "remove rare words\n",
      "['<s>', 'i', 'liked', 'your', 'idea', 'and', 'adopted', 'it', '.', '</s>']\n"
     ]
    }
   ],
   "source": [
    "print(\"remove rare words\")\n",
    "train_data = remove_rare_words(train_data, vocab, mincount = 1)\n",
    "valid_data = remove_rare_words(valid_data, vocab, mincount = 1)\n",
    "#train_data\n",
    "print(train_data[0])\n"
   ]
  },
  {
   "cell_type": "code",
   "execution_count": 47,
   "metadata": {
    "id": "kucAbhMhRcOK"
   },
   "outputs": [],
   "source": [
    "def build_ngram(data, n):\n",
    "    '''\n",
    "    Parameters:\n",
    "    data (list of lists): each list is a sentence of the text \n",
    "    n (int): size of the n-gram\n",
    "    \n",
    "    Returns:\n",
    "    prob (dictionary of dictionary)\n",
    "    {\n",
    "        context: {word:probability of this word given context}\n",
    "    }\n",
    "    '''\n",
    "    total_number_words = 0\n",
    "    counts = defaultdict(lambda: defaultdict(lambda: 0.0))\n",
    "    n_grams={}\n",
    "    for sentence in data:\n",
    "        sentence = tuple(sentence)\n",
    "        leng=len(sentence)\n",
    "        ## FILL CODE\n",
    "        # dict can be indexed by tuples\n",
    "        # store in the same dict all the ngrams\n",
    "        # by using the context as a key and the word as a value \n",
    "        for i in range(leng):\n",
    "            total_number_words +=1\n",
    "            for k in range(n):\n",
    "                if i-k < 0:\n",
    "                    break\n",
    "                counts[sentence[i-k:i]][sentence[i]] +=1 \n",
    "                \n",
    "    prob = defaultdict(lambda: defaultdict(lambda: 0.0))\n",
    "    # Build the probabilities from the counts\n",
    "    # Be careful with how you normalize!\n",
    "\n",
    "    for context in counts.keys():\n",
    "        ## FILL CODE\n",
    "        number =0\n",
    "        for word in counts[context].keys():\n",
    "            number += counts[context][word]\n",
    "        for word in counts[context].keys():\n",
    "            prob[context][word] = counts[context][word]/number\n",
    "\n",
    "\n",
    "    return prob"
   ]
  },
  {
   "cell_type": "code",
   "execution_count": 55,
   "metadata": {
    "colab": {
     "base_uri": "https://localhost:8080/"
    },
    "id": "do5RclucRcOL",
    "outputId": "038dd726-5788-4751-acca-7b0740b13957"
   },
   "outputs": [
    {
     "name": "stdout",
     "output_type": "stream",
     "text": [
      "build ngram model with n =  3\n"
     ]
    }
   ],
   "source": [
    "# RUN TO BUILD NGRAM MODEL\n",
    "\n",
    "n = 3\n",
    "print(\"build ngram model with n = \", n)\n",
    "model = build_ngram(train_data, n)"
   ]
  },
  {
   "cell_type": "markdown",
   "metadata": {
    "id": "Z0Gu5aMrRcOL"
   },
   "source": [
    "Here, implement a recursive function over shorter and shorter context to compute a \"stupid backoff model\". An interpolation model can also be implemented this way."
   ]
  },
  {
   "cell_type": "code",
   "execution_count": 56,
   "metadata": {
    "id": "lkkyCaQnRcOL"
   },
   "outputs": [],
   "source": [
    "def get_prob(model, context, w):\n",
    "    '''\n",
    "    Parameters: \n",
    "    model (dictionary of dictionary)\n",
    "    {\n",
    "        context: {word:probability of this word given context}\n",
    "    } \n",
    "    context (list of strings): a sentence\n",
    "    w(string): the word we need to find it's probability given the context\n",
    "    \n",
    "    Retunrs:\n",
    "    prob(float): probability of this word given the context \n",
    "    '''\n",
    "\n",
    "    # code a recursive function over \n",
    "    # smaller and smaller context\n",
    "    # to compute the backoff model\n",
    "    \n",
    "    ## FILL CODE\n",
    "   \n",
    "    return model[context][w] if context in model and w in model[context] else 0.4*get_prob(model, context[1:], w)\n"
   ]
  },
  {
   "cell_type": "code",
   "execution_count": 57,
   "metadata": {
    "id": "-VKuB77ZRcOL"
   },
   "outputs": [],
   "source": [
    "def perplexity(model, data, n):\n",
    "    '''\n",
    "    Parameters: \n",
    "    model (dictionary of dictionary)\n",
    "    {\n",
    "        context: {word:probability of this word given context}\n",
    "    } \n",
    "    data (list of lists): each list is a sentence of the text\n",
    "    n(int): size of the n-gram\n",
    "    \n",
    "    Returns:\n",
    "    perp(float): the perplexity of the model \n",
    "    '''\n",
    "    ## FILL CODE\n",
    "    perp= 0\n",
    "    k=0\n",
    "    for sentence in data:\n",
    "        sentence = tuple(sentence)\n",
    "        for i in range(1, len(sentence)):\n",
    "            minim = min(n-1, i)\n",
    "            context = sentence[i-minim:i]\n",
    "            perp += -math.log(get_prob(model, context, sentence[i]))\n",
    "            k += 1\n",
    "    perp = math.exp(perp/k)\n",
    "\n",
    "    return perp"
   ]
  },
  {
   "cell_type": "code",
   "execution_count": 58,
   "metadata": {
    "id": "SxGSkffRRcOL"
   },
   "outputs": [
    {
     "name": "stdout",
     "output_type": "stream",
     "text": [
      "The perplexity is 36.25568898397682\n"
     ]
    }
   ],
   "source": [
    "# COMPUTE PERPLEXITY ON VALIDATION SET\n",
    "\n",
    "print(\"The perplexity is\", perplexity(model, valid_data, n=n))"
   ]
  },
  {
   "cell_type": "code",
   "execution_count": 59,
   "metadata": {
    "id": "al5HqOIWRcOM"
   },
   "outputs": [],
   "source": [
    "def get_proba_distrib(model, context):\n",
    "    ## need to get the the words after the context and their probability of appearance\n",
    "    ## after this context \n",
    "    '''\n",
    "    Parameters: \n",
    "    model (dictionary of dictionary)\n",
    "    {\n",
    "        context: {word:probability of this word given context}\n",
    "    }\n",
    "    context (list of strings): the sentence we need to find the words after it and \n",
    "    thier probabilites\n",
    "    \n",
    "    Retunrs:\n",
    "    words_and_probs(dic): {word: probability of word given context}\n",
    "    \n",
    "    '''\n",
    "    # code a recursive function over context\n",
    "    # to find the longest available ngram\n",
    "    \n",
    "    ## FILL CODE\n",
    "    \n",
    "    return model[context] if context in model else get_proba_distrib(model, context[1:])"
   ]
  },
  {
   "cell_type": "code",
   "execution_count": 60,
   "metadata": {
    "id": "8rRhyqOjRcOM"
   },
   "outputs": [],
   "source": [
    "def generate(model):\n",
    "    '''\n",
    "    Parameters: \n",
    "    model (dictionary of dictionary)\n",
    "    {\n",
    "        context: {word:probability of this word given context}\n",
    "    }\n",
    "    \n",
    "    Retunrs:\n",
    "    sentence (list of strings): a sentence sampled according to the language model. \n",
    "    \n",
    "\n",
    "    '''\n",
    "    # generate a sentence. A sentence starts with a <s> and ends with a </s>\n",
    "    # Possiblly a use function is:\n",
    "    # np.random.choice(x, 1, p = y)\n",
    "\n",
    "    # where x is a list of things to sample from\n",
    "    # and y is a list of probability (of the same length as x)\n",
    "    sentence = [\"<s>\"]\n",
    "    while sentence[-1] != \"</s>\" and len(sentence)<100:\n",
    "        ## FILL CODE\n",
    "        prob = get_proba_distrib(model, tuple(sentence))\n",
    "        word = np.random.choice((list(prob.keys())), 1, p = list(prob.values()))\n",
    "        sentence.append(word[0])\n",
    "        \n",
    "    return sentence"
   ]
  },
  {
   "cell_type": "code",
   "execution_count": 61,
   "metadata": {
    "id": "R3UxR5H0RcOM"
   },
   "outputs": [
    {
     "name": "stdout",
     "output_type": "stream",
     "text": [
      "Generated sentence:  ['<s>', 'it', 'has', 'been', '<unk>', '.', '</s>']\n"
     ]
    }
   ],
   "source": [
    "# GENERATE A SENTENCE FROM THE MODEL\n",
    "\n",
    "print(\"Generated sentence: \",generate(model))"
   ]
  },
  {
   "cell_type": "markdown",
   "metadata": {
    "id": "uYDQBnyVRcON"
   },
   "source": [
    "Once you are done implementing the model, evaluation and generation code, you can try changing the value of `n`, and play with a larger training set (`train2.txt` and `valid2.txt`). You can also try to implement an interpolation model."
   ]
  },
  {
   "cell_type": "code",
   "execution_count": null,
   "metadata": {},
   "outputs": [],
   "source": []
  }
 ],
 "metadata": {
  "colab": {
   "collapsed_sections": [],
   "name": "Gilda_Bansimba_ n_gram_models.ipynb",
   "provenance": []
  },
  "kernelspec": {
   "display_name": "Python 3 (ipykernel)",
   "language": "python",
   "name": "python3"
  },
  "language_info": {
   "codemirror_mode": {
    "name": "ipython",
    "version": 3
   },
   "file_extension": ".py",
   "mimetype": "text/x-python",
   "name": "python",
   "nbconvert_exporter": "python",
   "pygments_lexer": "ipython3",
   "version": "3.9.7"
  }
 },
 "nbformat": 4,
 "nbformat_minor": 1
}
