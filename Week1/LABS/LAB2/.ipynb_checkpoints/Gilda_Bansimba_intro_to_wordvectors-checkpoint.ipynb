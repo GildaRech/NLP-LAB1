{
 "cells": [
  {
   "cell_type": "markdown",
   "metadata": {
    "id": "NNMMKDFErcQK"
   },
   "source": [
    "\n",
    "<h1 style=\"font-family:verdana;font-size:300%;text-align:center;background-color:#f2f2f2;color:#0d0d0d\">AMMI NLP - Review sessions</h1>\n",
    "\n",
    "<h1 style=\"font-family:verdana;font-size:180%;text-align:Center;color:#993333\"> Lab 2: Introduction to wordvectors </h1>"
   ]
  },
  {
   "cell_type": "markdown",
   "metadata": {
    "id": "_EL9QVg7rcQM"
   },
   "source": [
    "**Big thanks to Amr Khalifa who improved this lab and made it to a Jupyter Notebook!**"
   ]
  },
  {
   "cell_type": "code",
   "execution_count": 1,
   "metadata": {
    "id": "oXqfPtdBrcQM"
   },
   "outputs": [],
   "source": [
    "import io, sys\n",
    "import numpy as np"
   ]
  },
  {
   "cell_type": "code",
   "execution_count": 4,
   "metadata": {
    "id": "E2BeuS3lrcQN"
   },
   "outputs": [],
   "source": [
    "def load_vectors(filename):\n",
    "    fin = io.open(filename, 'r', encoding='utf-8', newline='\\n')\n",
    "    n, d = map(int, fin.readline().split())\n",
    "    data = {}\n",
    "    for line in fin:\n",
    "        tokens = line.rstrip().split(' ')\n",
    "        data[tokens[0]] = np.asarray([float(x) for x in tokens[1:]])\n",
    "    return data"
   ]
  },
  {
   "cell_type": "code",
   "execution_count": 5,
   "metadata": {
    "colab": {
     "base_uri": "https://localhost:8080/"
    },
    "id": "jrzNqY8CrcQN",
    "outputId": "83f2355f-6de3-47da-85c2-394da21a04b5"
   },
   "outputs": [
    {
     "name": "stdout",
     "output_type": "stream",
     "text": [
      "\n",
      " ** Word vectors ** \n",
      "\n",
      "<class 'numpy.ndarray'> 300\n"
     ]
    }
   ],
   "source": [
    "# Loading word vectors\n",
    "\n",
    "print('')\n",
    "print(' ** Word vectors ** ')\n",
    "print('')\n",
    "\n",
    "'''\n",
    "word_vectors is a dictionary that maps words to their numerical word vector\n",
    "[word (string)] = [np-array] \n",
    "'''\n",
    "word_vectors = load_vectors('wiki.en.vec')\n",
    "\n",
    "tree_vector = word_vectors['tree']\n",
    "print(type(tree_vector), len(tree_vector))"
   ]
  },
  {
   "cell_type": "code",
   "execution_count": 6,
   "metadata": {
    "id": "nmHPxKJgrcQN"
   },
   "outputs": [],
   "source": [
    "## This function computes the cosine similarity between vectors u and v\n",
    "\n",
    "def cosine(u, v):\n",
    "    '''\n",
    "    Parameters:\n",
    "    u : 1-D numpy array\n",
    "    v : 1-D numpy array \n",
    "    \n",
    "    Returns:\n",
    "    cos (float) : value of the cosine similairy between vectors u, v \n",
    "    '''\n",
    "    ## FILL CODE\n",
    "    cos=(np.dot(u, v))/(np.linalg.norm(u)*np.linalg.norm(v))\n",
    "    \n",
    "    return cos \n"
   ]
  },
  {
   "cell_type": "code",
   "execution_count": 7,
   "metadata": {
    "colab": {
     "base_uri": "https://localhost:8080/"
    },
    "id": "eVbSxXM3rcQO",
    "outputId": "57641db9-093d-4d02-a712-8f3fcf34264a"
   },
   "outputs": [
    {
     "name": "stdout",
     "output_type": "stream",
     "text": [
      "similarity(apple, apples) = 0.637\n",
      "similarity(apple, banana) = 0.431\n",
      "similarity(apple, tiger) = 0.212\n"
     ]
    }
   ],
   "source": [
    "# compute similarity between words\n",
    "\n",
    "print('similarity(apple, apples) = %.3f' %\n",
    "      cosine(word_vectors['apple'], word_vectors['apples']))\n",
    "print('similarity(apple, banana) = %.3f' %\n",
    "      cosine(word_vectors['apple'], word_vectors['banana']))\n",
    "print('similarity(apple, tiger) = %.3f' %\n",
    "      cosine(word_vectors['apple'], word_vectors['tiger']))"
   ]
  },
  {
   "cell_type": "code",
   "execution_count": 44,
   "metadata": {
    "id": "6B_Pc7cVrcQO"
   },
   "outputs": [],
   "source": [
    "## Functions for nearest neighbor\n",
    "## This function returns the word corresponding to \n",
    "## nearest neighbor vector of x\n",
    "## The list exclude_words can be used to exclude some\n",
    "## words from the nearest neighbors search\n",
    "\n",
    "def nearest_neighbor(x, word_vectors, exclude_words=[]):\n",
    "    '''\n",
    "    Parameters:\n",
    "    x (string): word to find its nearest neighbour \n",
    "    word_vectors (Python dict): {word (string): np-array of word vector}\n",
    "    exclude_words (list of strings): words to be excluded from the search\n",
    "    \n",
    "    Returns:\n",
    "    best_word (string) : the word whose word vector is the nearest neighbour \n",
    "    to the word vector of x\n",
    "    '''\n",
    "    best_score = -1.0\n",
    "    best_word = None\n",
    "    for word in word_vectors: \n",
    "        if not word in exclude_words:\n",
    "            idx=cosine(x,word_vectors[word])\n",
    "            if idx !=1 and best_score<=idx :\n",
    "              best_word=word\n",
    "              best_score=idx\n",
    "    return best_word"
   ]
  },
  {
   "cell_type": "code",
   "execution_count": 45,
   "metadata": {
    "colab": {
     "base_uri": "https://localhost:8080/"
    },
    "id": "Cf6OFmxRrcQO",
    "outputId": "31e3c880-f95c-4667-c264-4e03930c43aa"
   },
   "outputs": [
    {
     "name": "stdout",
     "output_type": "stream",
     "text": [
      "\n",
      "The nearest neighbor of cat is: dog\n"
     ]
    }
   ],
   "source": [
    "print('')\n",
    "print('The nearest neighbor of cat is: ' +\n",
    "      nearest_neighbor(word_vectors['cat'], word_vectors, exclude_words = ['cat', 'cats']))"
   ]
  },
  {
   "cell_type": "markdown",
   "metadata": {
    "id": "gLWxP_u3rcQO"
   },
   "source": [
    "#### Hint (using python priorty queues with the heapq datastructure): \n",
    "if you don't want to store all the words and scores you can use the priortiy queue and only store the best K element so far. "
   ]
  },
  {
   "cell_type": "code",
   "execution_count": 56,
   "metadata": {
    "id": "jQ4DB-jJrcQP"
   },
   "outputs": [],
   "source": [
    "\n",
    "## This function return the words corresponding to the\n",
    "## K nearest neighbors of vector x.\n",
    "## You can use the functions heappush and heappop.\n",
    "\n",
    "def knn(x, vectors, k):\n",
    "    '''\n",
    "    Parameters:\n",
    "    x (string): word to find its nearest neighbour \n",
    "    word_vectors (Python dict): {word (string): np-array of word vector}\n",
    "    k (int): number of nearest neighbours to be found\n",
    "    \n",
    "    Returns: \n",
    "    k_nearest_neighbors (list of tuples): [(score, word), (score, word), ....]\n",
    "    '''\n",
    "    k_nearest_neighbors=list()\n",
    "    ## FILL CODE\n",
    "    exclude_words=[]\n",
    "    for j in range(k):\n",
    "        word= nearest_neighbor(x, vectors, exclude_words)\n",
    "        score= cosine(x, vectors[word])\n",
    "        k_nearest_neighbors.append((score, word))\n",
    "        exclude_words.append(word)\n",
    "        \n",
    "        \n",
    "    return k_nearest_neighbors"
   ]
  },
  {
   "cell_type": "code",
   "execution_count": 57,
   "metadata": {
    "id": "Ci1ep2yqrcQP"
   },
   "outputs": [
    {
     "name": "stdout",
     "output_type": "stream",
     "text": [
      "\n",
      "cat\n",
      "--------------\n",
      "cats\t0.732\n",
      "dog\t0.638\n",
      "pet\t0.573\n",
      "rabbit\t0.549\n",
      "dogs\t0.538\n"
     ]
    }
   ],
   "source": [
    "knn_cat = knn(word_vectors['cat'], word_vectors, 5)\n",
    "print('')\n",
    "print('cat')\n",
    "print('--------------')\n",
    "for score, word in knn(word_vectors['cat'], word_vectors, 5):\n",
    "    print (word + '\\t%.3f' % score)\n"
   ]
  },
  {
   "cell_type": "markdown",
   "metadata": {
    "id": "1sHzoUaorcQP"
   },
   "source": [
    "#### Hint: \n",
    "To find the analogies, we find the nearest neighbour associated with the wordvector d\n",
    "$$ d = \\frac{c}{\\Vert {c} \\Vert} + \\frac{b}{\\Vert {b} \\Vert} - \\frac{a}{\\Vert {a} \\Vert}$$\n"
   ]
  },
  {
   "cell_type": "code",
   "execution_count": 61,
   "metadata": {
    "id": "8SIcEOpNrcQP"
   },
   "outputs": [],
   "source": [
    "## This function return the words d, such that a:b and c:d\n",
    "## verifies the same relation\n",
    "\n",
    "def analogy(a, b, c, word_vectors):\n",
    "    '''\n",
    "    Parameters:\n",
    "    a (string): word a\n",
    "    b (string): word b\n",
    "    c (string): word c\n",
    "    word_vectors (Python dict): {word (string): np-array of word vector}\n",
    "    \n",
    "    Returnrs: \n",
    "    the word d (string) associated with c such that c:d is similar to a:b \n",
    "    \n",
    "    '''\n",
    "    d=0\n",
    "    for i in [c, b, a]:\n",
    "        if i ==c or  i==b:\n",
    "            d+=word_vectors[i]/np.linalg.norm(word_vectors[i])\n",
    "        else:\n",
    "            d-=word_vectors[i]/np.linalg.norm(word_vectors[i])\n",
    "    word=nearest_neighbor(d, word_vectors)\n",
    "    return word\n"
   ]
  },
  {
   "cell_type": "code",
   "execution_count": 62,
   "metadata": {
    "colab": {
     "base_uri": "https://localhost:8080/"
    },
    "id": "WsrN6tE0rcQP",
    "outputId": "43b6f3a1-b4c7-4959-ddd7-77b3793bc941"
   },
   "outputs": [
    {
     "name": "stdout",
     "output_type": "stream",
     "text": [
      "\n",
      "france - paris + rome = italy\n"
     ]
    }
   ],
   "source": [
    "# Word analogies\n",
    "\n",
    "print('')\n",
    "print('france - paris + rome = ' + analogy('paris', 'france', 'rome', word_vectors))"
   ]
  },
  {
   "cell_type": "markdown",
   "metadata": {
    "id": "iMC29ztnrcQQ"
   },
   "source": [
    "## A word about biases in word vectors"
   ]
  },
  {
   "cell_type": "code",
   "execution_count": 63,
   "metadata": {
    "colab": {
     "base_uri": "https://localhost:8080/"
    },
    "id": "TR16yVMOrcQQ",
    "outputId": "54d98fa9-350f-4c54-eb22-c651536360d8"
   },
   "outputs": [
    {
     "name": "stdout",
     "output_type": "stream",
     "text": [
      "\n",
      "similarity(genius, man) = 0.445\n",
      "similarity(genius, woman) = 0.325\n"
     ]
    }
   ],
   "source": [
    "## A word about biases in word vectors:\n",
    "\n",
    "print('')\n",
    "print('similarity(genius, man) = %.3f' %\n",
    "      cosine(word_vectors['man'], word_vectors['genius']))\n",
    "print('similarity(genius, woman) = %.3f' %\n",
    "      cosine(word_vectors['woman'], word_vectors['genius']))"
   ]
  },
  {
   "cell_type": "code",
   "execution_count": 73,
   "metadata": {
    "id": "mlZxws-frcQQ"
   },
   "outputs": [],
   "source": [
    "## Compute the association strength between:\n",
    "##   - a word w\n",
    "##   - two sets of attributes A and B\n",
    "\n",
    "def association_strength(w, A, B, vectors):\n",
    "    '''\n",
    "    Parameters:\n",
    "    w (string): word w\n",
    "    A (list of strings): The words belonging to set A\n",
    "    B (list of strings): The words belonging to set B\n",
    "    vectors (Python dict): {word (string): np-array of word vector}\n",
    "    \n",
    "    Returnrs: \n",
    "    strength (float): the value of the association strength \n",
    "    '''\n",
    "    \n",
    "    strength = 0.0\n",
    "    ## FILL CODE\n",
    "    part_a = np.sum([cosine(vectors[w],vectors[word]) for word in A])/len(A)\n",
    "    part_b = np.sum([cosine(vectors[w],vectors[word]) for word in B])/len(B)\n",
    "\n",
    "    strength= part_a - part_b\n",
    "    return strength"
   ]
  },
  {
   "cell_type": "code",
   "execution_count": 74,
   "metadata": {
    "id": "Xm_nAE98rcQQ"
   },
   "outputs": [],
   "source": [
    "## Perform the word embedding association test between:\n",
    "##   - two sets of words X and Y\n",
    "##   - two sets of attributes A and B\n",
    "\n",
    "def weat(X, Y, A, B, vectors):\n",
    "    '''\n",
    "    Parameters:\n",
    "    X (list of strings): The words belonging to set X\n",
    "    Y (list of strings): The words belonging to set Y\n",
    "    A (list of strings): The words belonging to set A\n",
    "    B (list of strings): The words belonging to set B\n",
    "    vectors (Python dict): {word (string): np-array of word vector}\n",
    "    \n",
    "    Returns: \n",
    "    score (float): the value of the group association strength  \n",
    "    '''\n",
    "    \n",
    "    score = 0.0\n",
    "    \n",
    "    ## FILL CODE\n",
    "    X_score=np.sum([association_strength(x,A,B,vectors) for x in X])\n",
    "    Y_score=np.sum([association_strength(y,A,B,vectors) for y in Y])\n",
    "\n",
    "    return X_score-Y_score"
   ]
  },
  {
   "cell_type": "code",
   "execution_count": 75,
   "metadata": {
    "id": "XkE8Z9y_rcQQ"
   },
   "outputs": [
    {
     "name": "stdout",
     "output_type": "stream",
     "text": [
      "\n",
      "Word embedding association test: 0.847\n"
     ]
    }
   ],
   "source": [
    "## Replicate one of the experiments from:\n",
    "##\n",
    "## Semantics derived automatically from language corpora contain human-like biases\n",
    "## Caliskan, Bryson, Narayanan (2017)\n",
    "\n",
    "career = ['executive', 'management', 'professional', 'corporation', \n",
    "          'salary', 'office', 'business', 'career']\n",
    "family = ['home', 'parents', 'children', 'family',\n",
    "          'cousins', 'marriage', 'wedding', 'relatives']\n",
    "male = ['john', 'paul', 'mike', 'kevin', 'steve', 'greg', 'jeff', 'bill']\n",
    "female = ['amy', 'joan', 'lisa', 'sarah', 'diana', 'kate', 'ann', 'donna']\n",
    "\n",
    "print('')\n",
    "print('Word embedding association test: %.3f' %\n",
    "      weat(career, family, male, female, word_vectors))"
   ]
  },
  {
   "cell_type": "markdown",
   "metadata": {
    "id": "Jo_dhWs3rcQR"
   },
   "source": [
    "## Word translation using word vectors\n",
    "\n",
    "In the following, we will use word vectors in English and French to translate words from English to French. The idea is to learn a linear function that maps English word vectors to their correponding French word vectors. To learn this linear mapping, we will use a small bilingual lexicon, that contains pairs of words in English and French that are translations of each other.\n",
    "\n",
    "The following function will load the small English-French bilingual lexicon:"
   ]
  },
  {
   "cell_type": "code",
   "execution_count": 76,
   "metadata": {
    "id": "EV0uPidJrcQR"
   },
   "outputs": [],
   "source": [
    "def load_lexicon(filename):\n",
    "    '''\n",
    "    Parameters:\n",
    "    filename(string): the path of the lexicon\n",
    "    \n",
    "    Returns:\n",
    "    data(list of pairs of string): the bilingual lexicon\n",
    "    '''\n",
    "    fin = io.open(filename, 'r', encoding='utf-8', newline='\\n')\n",
    "    data = []\n",
    "    for line in fin:\n",
    "        a, b = line.rstrip().split(' ')\n",
    "        data.append((a, b))\n",
    "    return data"
   ]
  },
  {
   "cell_type": "code",
   "execution_count": 77,
   "metadata": {
    "colab": {
     "base_uri": "https://localhost:8080/"
    },
    "id": "epgYmQpVrcQR",
    "outputId": "a1ad1d1f-c668-4194-d23b-d8efd5305281"
   },
   "outputs": [
    {
     "name": "stdout",
     "output_type": "stream",
     "text": [
      "[('the', 'le'), ('the', 'les'), ('the', 'la'), ('and', 'et'), ('was', 'fut')]\n"
     ]
    }
   ],
   "source": [
    "word_vectors_en = load_vectors('wiki.en.vec')\n",
    "word_vectors_fr = load_vectors('wiki.fr.vec')\n",
    "lexicon = load_lexicon(\"lexicon-en-fr.txt\")\n",
    "print(lexicon[:5])"
   ]
  },
  {
   "cell_type": "code",
   "execution_count": 78,
   "metadata": {
    "id": "1wzISbnercQR"
   },
   "outputs": [],
   "source": [
    "# We split the lexicon into a train and validation set\n",
    "train = lexicon[:5000]\n",
    "valid = lexicon[5000:5100]"
   ]
  },
  {
   "cell_type": "markdown",
   "metadata": {
    "id": "r8V3NWaSrcQS"
   },
   "source": [
    "The following function will learn the mapping from English to French. The idea is to build two matrices $X_{\\text{en}}$ and $X_{\\text{fr}}$, and to find a mapping $M$ that minimizes $||X_{\\text{en}} W - X_{\\text{fr}} ||_2$. In numpy, this mapping can be obtained by using the `numpy.linalg.lstsq` function."
   ]
  },
  {
   "cell_type": "code",
   "execution_count": 79,
   "metadata": {
    "id": "6xUrDNWBrcQS"
   },
   "outputs": [],
   "source": [
    "def align(word_vectors_en, word_vectors_fr, lexicon):\n",
    "    '''\n",
    "    Parameters:\n",
    "    word_vectors_en(dict: string -> np.array): English word vectors\n",
    "    word_vectors_en(dict: string -> np.array): French word vectors\n",
    "    lexicon(list of pairs of string): bilingual training lexicon\n",
    "    \n",
    "    Returns\n",
    "    mapping(np.array): the mapping from English to French vectors\n",
    "    '''\n",
    "    x_en, x_fr = [], []\n",
    "    \n",
    "    ## FILL CODE\n",
    "    for en,fr in lexicon:\n",
    "      x_en.append(en)\n",
    "      x_fr.append(fr)\n",
    "    en_m=np.array([list(word_vectors_en[w]) for w in x_en])\n",
    "    fr_m=np.array([list(word_vectors_fr[w]) for w in x_fr])\n",
    "    \n",
    "    mapping=np.linalg.lstsq(en_m,fr_m)[0] #mapping using the numpy.linalg.lstsq function\n",
    "    \n",
    "    return mapping\n",
    "    "
   ]
  },
  {
   "cell_type": "code",
   "execution_count": 80,
   "metadata": {
    "id": "ExGx2zi3rcQS"
   },
   "outputs": [
    {
     "name": "stderr",
     "output_type": "stream",
     "text": [
      "/var/folders/1m/m2v7dd0550q56ksdh0f30hqw0000gn/T/ipykernel_52189/386047059.py:20: FutureWarning: `rcond` parameter will change to the default of machine precision times ``max(M, N)`` where M and N are the input matrix dimensions.\n",
      "To use the future default and silence this warning we advise to pass `rcond=None`, to keep using the old, explicitly pass `rcond=-1`.\n",
      "  mapping=np.linalg.lstsq(en_m,fr_m)[0] #mapping using the numpy.linalg.lstsq function\n"
     ]
    }
   ],
   "source": [
    "mapping = align(word_vectors_en, word_vectors_fr, lexicon)"
   ]
  },
  {
   "cell_type": "code",
   "execution_count": 81,
   "metadata": {},
   "outputs": [
    {
     "data": {
      "text/plain": [
       "array([[-0.06183285, -0.01071552,  0.00175985, ..., -0.01107046,\n",
       "         0.01629405, -0.01644996],\n",
       "       [-0.01655313, -0.02930488,  0.09810107, ..., -0.01744702,\n",
       "        -0.02848298,  0.02070179],\n",
       "       [-0.01970861, -0.0147154 ,  0.01231819, ...,  0.03036093,\n",
       "        -0.00209909, -0.00944313],\n",
       "       ...,\n",
       "       [ 0.0669847 ,  0.02351181,  0.02041902, ...,  0.00886501,\n",
       "         0.08635366,  0.00595836],\n",
       "       [ 0.01936122,  0.00552446,  0.01234669, ..., -0.00623332,\n",
       "        -0.05116348,  0.05634361],\n",
       "       [ 0.00530333, -0.03424679, -0.03369923, ..., -0.01344391,\n",
       "        -0.00051053, -0.00491391]])"
      ]
     },
     "execution_count": 81,
     "metadata": {},
     "output_type": "execute_result"
    }
   ],
   "source": [
    "mapping"
   ]
  },
  {
   "cell_type": "markdown",
   "metadata": {
    "id": "VvJ3NXsBrcQS"
   },
   "source": [
    "Given a mapping, a set of word English word vector and French word vectors, the next function will translate the English word to French. To do so, we apply the mapping on the English word, and retrieve the nearest neighbor of the obtained vector in the set of French word vectors. The translation is then the corresponding French word."
   ]
  },
  {
   "cell_type": "code",
   "execution_count": 82,
   "metadata": {
    "id": "XqDQF84arcQS"
   },
   "outputs": [],
   "source": [
    "def translate(word, word_vectors_en, word_vectors_fr, mapping):\n",
    "    '''\n",
    "    Parameters:\n",
    "    word(string): an English word\n",
    "    word_vectors_en(dict: string -> np.array): English word vectors\n",
    "    word_vectors_en(dict: string -> np.array): French word vectors\n",
    "    mapping(np.array): the mapping from English to French vectors\n",
    "    \n",
    "    Returns\n",
    "    A string containing the translation of the English word\n",
    "    '''\n",
    "    \n",
    "    ## FILL CODE\n",
    "    map_word=word_vectors_en[word]@mapping\n",
    "    nearest_word=nearest_neighbor(map_word,word_vectors_fr)\n",
    "\n",
    "    return nearest_word"
   ]
  },
  {
   "cell_type": "code",
   "execution_count": 83,
   "metadata": {
    "id": "Qh_4NUc9rcQS"
   },
   "outputs": [
    {
     "name": "stdout",
     "output_type": "stream",
     "text": [
      "monde\n",
      "machine\n",
      "apprentissage\n"
     ]
    }
   ],
   "source": [
    "print(translate(\"world\", word_vectors_en, word_vectors_fr, mapping))\n",
    "print(translate(\"machine\", word_vectors_en, word_vectors_fr, mapping))\n",
    "print(translate(\"learning\", word_vectors_en, word_vectors_fr, mapping))"
   ]
  },
  {
   "cell_type": "markdown",
   "metadata": {
    "id": "mMGIA3U0rcQS"
   },
   "source": [
    "Finally, let's implement a function to evaluate this method on the validation lexicon:"
   ]
  },
  {
   "cell_type": "code",
   "execution_count": 84,
   "metadata": {
    "id": "2MSysc5arcQS"
   },
   "outputs": [],
   "source": [
    "def evaluate(valid, word_vectors_en, word_vectors_fr, mapping):\n",
    "    '''\n",
    "    Parameters:\n",
    "    valid(a list of pairs of string): the validation lexicon\n",
    "    word_vectors_en(dict: string -> np.array): English word vectors\n",
    "    word_vectors_en(dict: string -> np.array): French word vectors\n",
    "    mapping(np.array): the mapping from English to French vectors\n",
    "    \n",
    "    Returns\n",
    "    Accuracy(float): the accuracy on the validation lexicon\n",
    "    '''\n",
    "    acc, n = 0.0, len(valid)\n",
    "    \n",
    "    ## FILL CODE\n",
    "    for en_word, fr_word in valid:\n",
    "      if fr_word==translate(en_word, word_vectors_en, word_vectors_fr, mapping): # We check if valid french words correspond to the translation of the valid english word\n",
    "        acc+=1 \n",
    "    acc=(acc*100)/n\n",
    "    \n",
    "    return acc"
   ]
  },
  {
   "cell_type": "code",
   "execution_count": 85,
   "metadata": {
    "id": "6nm3SemArcQT"
   },
   "outputs": [
    {
     "data": {
      "text/plain": [
       "64.0"
      ]
     },
     "execution_count": 85,
     "metadata": {},
     "output_type": "execute_result"
    }
   ],
   "source": [
    "evaluate(valid, word_vectors_en, word_vectors_fr, mapping)"
   ]
  }
 ],
 "metadata": {
  "colab": {
   "collapsed_sections": [],
   "name": "Gilda_Bansimba_intro_to_wordvectors.ipynb",
   "provenance": []
  },
  "kernelspec": {
   "display_name": "Python 3 (ipykernel)",
   "language": "python",
   "name": "python3"
  },
  "language_info": {
   "codemirror_mode": {
    "name": "ipython",
    "version": 3
   },
   "file_extension": ".py",
   "mimetype": "text/x-python",
   "name": "python",
   "nbconvert_exporter": "python",
   "pygments_lexer": "ipython3",
   "version": "3.9.7"
  }
 },
 "nbformat": 4,
 "nbformat_minor": 1
}
