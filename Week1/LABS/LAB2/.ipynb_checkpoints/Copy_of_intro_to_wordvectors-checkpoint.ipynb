{
 "cells": [
  {
   "cell_type": "markdown",
   "metadata": {
    "id": "24aKpFfj2uA7"
   },
   "source": [
    "\n",
    "<h1 style=\"font-family:verdana;font-size:300%;text-align:center;background-color:#f2f2f2;color:#0d0d0d\">AMMI NLP - Review sessions</h1>\n",
    "\n",
    "<h1 style=\"font-family:verdana;font-size:180%;text-align:Center;color:#993333\"> Lab 2: Introduction to wordvectors </h1>"
   ]
  },
  {
   "cell_type": "markdown",
   "metadata": {
    "id": "gZXL9Lqy2uA-"
   },
   "source": [
    "**Big thanks to Amr Khalifa who improved this lab and made it to a Jupyter Notebook!**"
   ]
  },
  {
   "cell_type": "code",
   "execution_count": 23,
   "metadata": {
    "id": "_JWuZwI-2uA-"
   },
   "outputs": [],
   "source": [
    "import io, sys\n",
    "import numpy as np"
   ]
  },
  {
   "cell_type": "code",
   "execution_count": 24,
   "metadata": {
    "id": "gYHkhSF-2uA_"
   },
   "outputs": [],
   "source": [
    "def load_vectors(filename):\n",
    "    fin = io.open(filename, 'r', encoding='utf-8', newline='\\n')\n",
    "    n, d = map(int, fin.readline().split())\n",
    "    data = {}\n",
    "    for line in fin:\n",
    "        tokens = line.rstrip().split(' ')\n",
    "        data[tokens[0]] = np.asarray([float(x) for x in tokens[1:]])\n",
    "    return data"
   ]
  },
  {
   "cell_type": "code",
   "execution_count": 25,
   "metadata": {
    "colab": {
     "base_uri": "https://localhost:8080/"
    },
    "id": "0SbsGRr52uBB",
    "outputId": "ae5ce231-ace6-47ae-ebb2-93d2a2d50083"
   },
   "outputs": [
    {
     "name": "stdout",
     "output_type": "stream",
     "text": [
      "\n",
      " ** Word vectors ** \n",
      "\n",
      "<class 'numpy.ndarray'> 300\n"
     ]
    }
   ],
   "source": [
    "# Loading word vectors\n",
    "\n",
    "print('')\n",
    "print(' ** Word vectors ** ')\n",
    "print('')\n",
    "\n",
    "'''\n",
    "word_vectors is a dictionary that maps words to their numerical word vector\n",
    "[word (string)] = [np-array] \n",
    "'''\n",
    "word_vectors = load_vectors('wiki.en.vec')\n",
    "\n",
    "tree_vector = word_vectors['tree']\n",
    "print(type(tree_vector), len(tree_vector))"
   ]
  },
  {
   "cell_type": "code",
   "execution_count": 22,
   "metadata": {
    "id": "OGH-KJ6d7a8-"
   },
   "outputs": [],
   "source": []
  },
  {
   "cell_type": "code",
   "execution_count": 26,
   "metadata": {
    "id": "1jxYp4sS2uBB"
   },
   "outputs": [],
   "source": [
    "## This function computes the cosine similarity between vectors u and v\n",
    "\n",
    "def cosine(u, v):\n",
    "    '''\n",
    "    Parameters:\n",
    "    u : 1-D numpy array\n",
    "    v : 1-D numpy array \n",
    "    \n",
    "    Returns:\n",
    "    cos (float) : value of the cosine similairy between vectors u, v \n",
    "    '''\n",
    "    cos=(u.T@v)/(np.linalg.norm(u)*np.linalg.norm(v))\n",
    "    \n",
    "    return cos \n"
   ]
  },
  {
   "cell_type": "code",
   "execution_count": 27,
   "metadata": {
    "colab": {
     "base_uri": "https://localhost:8080/"
    },
    "id": "-VcrFZT_2uBC",
    "outputId": "89323d56-12cb-439e-e17f-4ebb74577105"
   },
   "outputs": [
    {
     "name": "stdout",
     "output_type": "stream",
     "text": [
      "similarity(apple, apples) = 0.637\n",
      "similarity(apple, banana) = 0.431\n",
      "similarity(apple, tiger) = 0.212\n"
     ]
    }
   ],
   "source": [
    "# compute similarity between words\n",
    "\n",
    "print('similarity(apple, apples) = %.3f' %\n",
    "      cosine(word_vectors['apple'], word_vectors['apples']))\n",
    "print('similarity(apple, banana) = %.3f' %\n",
    "      cosine(word_vectors['apple'], word_vectors['banana']))\n",
    "print('similarity(apple, tiger) = %.3f' %\n",
    "      cosine(word_vectors['apple'], word_vectors['tiger']))"
   ]
  },
  {
   "cell_type": "code",
   "execution_count": 59,
   "metadata": {
    "id": "bP7MXR1V2uBC"
   },
   "outputs": [],
   "source": [
    "## Functions for nearest neighbor\n",
    "## This function returns the word corresponding to \n",
    "## nearest neighbor vector of x\n",
    "## The list exclude_words can be used to exclude some\n",
    "## words from the nearest neighbors search\n",
    "\n",
    "def nearest_neighbor(x, word_vectors, exclude_words=[]):\n",
    "    '''\n",
    "    Parameters:\n",
    "    x (string): word to find its nearest neighbour \n",
    "    word_vectors (Python dict): {word (string): np-array of word vector}\n",
    "    exclude_words (list of strings): words to be excluded from the search\n",
    "    \n",
    "    Returns:\n",
    "    best_word (string) : the word whose word vector is the nearest neighbour \n",
    "    to the word vector of x\n",
    "    '''\n",
    "    best_score = -1.0\n",
    "    best_word = None\n",
    "    \n",
    "    ## FILL CODE\n",
    "    for word in word_vectors:\n",
    "      if word in exclude_words:\n",
    "        continue\n",
    "      else:\n",
    "        cosinus=cosine(x,word_vectors[word])\n",
    "        if cosinus>=best_score and cosinus!=1:\n",
    "          best_word=word\n",
    "          best_score=cosinus\n",
    "        \n",
    "    return best_word"
   ]
  },
  {
   "cell_type": "code",
   "execution_count": 60,
   "metadata": {
    "colab": {
     "base_uri": "https://localhost:8080/"
    },
    "id": "lzeMH_dQ2uBC",
    "outputId": "beb31347-414b-4ee8-8b86-46a5f5b656dc"
   },
   "outputs": [
    {
     "name": "stdout",
     "output_type": "stream",
     "text": [
      "\n",
      "The nearest neighbor of cat is: dog\n"
     ]
    }
   ],
   "source": [
    "print('')\n",
    "print('The nearest neighbor of cat is: '+ \n",
    "      nearest_neighbor(word_vectors['cat'], word_vectors, exclude_words = ['cat', 'cats']))"
   ]
  },
  {
   "cell_type": "markdown",
   "metadata": {
    "id": "4b2q_ClQ2uBC"
   },
   "source": [
    "#### Hint (using python priorty queues with the heapq datastructure): \n",
    "if you don't want to store all the words and scores you can use the priortiy queue and only store the best K element so far. "
   ]
  },
  {
   "cell_type": "code",
   "execution_count": 63,
   "metadata": {
    "id": "bqgRDq-b2uBD"
   },
   "outputs": [],
   "source": [
    "\n",
    "## This function return the words corresponding to the\n",
    "## K nearest neighbors of vector x.\n",
    "## You can use the functions heappush and heappop.\n",
    "\n",
    "def knn(x, vectors, k):\n",
    "    '''\n",
    "    Parameters:\n",
    "    x (string): word to find its nearest neighbour \n",
    "    word_vectors (Python dict): {word (string): np-array of word vector}\n",
    "    k (int): number of nearest neighbours to be found\n",
    "    \n",
    "    Returns: \n",
    "    k_nearest_neighbors (list of tuples): [(score, word), (score, word), ....]\n",
    "    '''\n",
    "\n",
    "    k_nearest_neighbors = []\n",
    "    exclu=[]\n",
    "    ## FILL CODE\n",
    "    for i in range(k):\n",
    "      best_word=nearest_neighbor(x,vectors,exclu)\n",
    "      score=cosine(x,vectors[best_word])\n",
    "      k_nearest_neighbors.append((score,best_word))\n",
    "      exclu.append(best_word)\n",
    "\n",
    "    \n",
    "        \n",
    "    return k_nearest_neighbors"
   ]
  },
  {
   "cell_type": "code",
   "execution_count": 64,
   "metadata": {
    "colab": {
     "base_uri": "https://localhost:8080/"
    },
    "id": "5OpzmDJY2uBD",
    "outputId": "ce459d32-af14-4cea-bec0-fbe11672c7c9"
   },
   "outputs": [
    {
     "name": "stdout",
     "output_type": "stream",
     "text": [
      "\n",
      "cat\n",
      "--------------\n",
      "cats\t0.732\n",
      "dog\t0.638\n",
      "pet\t0.573\n",
      "rabbit\t0.549\n",
      "dogs\t0.538\n"
     ]
    }
   ],
   "source": [
    "knn_cat = knn(word_vectors['cat'], word_vectors, 5)\n",
    "print('')\n",
    "print('cat')\n",
    "print('--------------')\n",
    "for score, word in knn(word_vectors['cat'], word_vectors, 5):\n",
    "    print (word + '\\t%.3f' % score)\n"
   ]
  },
  {
   "cell_type": "markdown",
   "metadata": {
    "id": "OLMUpvJ72uBE"
   },
   "source": [
    "#### Hint: \n",
    "To find the analogies, we find the nearest neighbour associated with the wordvector d\n",
    "$$ d = \\frac{c}{\\Vert {c} \\Vert} + \\frac{b}{\\Vert {b} \\Vert} - \\frac{a}{\\Vert {a} \\Vert}$$\n"
   ]
  },
  {
   "cell_type": "code",
   "execution_count": 76,
   "metadata": {
    "id": "6w5Wv9JA2uBE"
   },
   "outputs": [],
   "source": [
    "## This function return the words d, such that a:b and c:d\n",
    "## verifies the same relation\n",
    "\n",
    "def analogy(a, b, c, word_vectors):\n",
    "    '''\n",
    "    Parameters:\n",
    "    a (string): word a\n",
    "    b (string): word b\n",
    "    c (string): word c\n",
    "    word_vectors (Python dict): {word (string): np-array of word vector}\n",
    "    \n",
    "    Returnrs: \n",
    "    the word d (string) associated with c such that c:d is similar to a:b \n",
    "    \n",
    "    '''\n",
    "    \n",
    "    ## FILL CODE\n",
    "    d=(word_vectors[c]/np.linalg.norm(word_vectors[c]))+(word_vectors[b]/np.linalg.norm(word_vectors[b]))-(word_vectors[a]/np.linalg.norm(word_vectors[a]))\n",
    "    near_word=nearest_neighbor(d,word_vectors)\n",
    "\n",
    "    return near_word"
   ]
  },
  {
   "cell_type": "code",
   "execution_count": 77,
   "metadata": {
    "colab": {
     "base_uri": "https://localhost:8080/"
    },
    "id": "cQAfRFn22uBF",
    "outputId": "44a274f8-4e11-417e-f45c-66880d6fd95d"
   },
   "outputs": [
    {
     "name": "stdout",
     "output_type": "stream",
     "text": [
      "\n",
      "france - paris + rome = italy\n"
     ]
    }
   ],
   "source": [
    "# Word analogies\n",
    "\n",
    "print('')\n",
    "print('france - paris + rome = ' + analogy('paris', 'france', 'rome', word_vectors))"
   ]
  },
  {
   "cell_type": "markdown",
   "metadata": {
    "id": "cLFPLjkH2uBF"
   },
   "source": [
    "## A word about biases in word vectors"
   ]
  },
  {
   "cell_type": "code",
   "execution_count": 78,
   "metadata": {
    "colab": {
     "base_uri": "https://localhost:8080/"
    },
    "id": "ninoHLIo2uBF",
    "outputId": "3a51c7f1-7137-48e6-9f1d-9fb69a1c0bd1"
   },
   "outputs": [
    {
     "name": "stdout",
     "output_type": "stream",
     "text": [
      "\n",
      "similarity(genius, man) = 0.445\n",
      "similarity(genius, woman) = 0.325\n"
     ]
    }
   ],
   "source": [
    "## A word about biases in word vectors:\n",
    "\n",
    "print('')\n",
    "print('similarity(genius, man) = %.3f' %\n",
    "      cosine(word_vectors['man'], word_vectors['genius']))\n",
    "print('similarity(genius, woman) = %.3f' %\n",
    "      cosine(word_vectors['woman'], word_vectors['genius']))"
   ]
  },
  {
   "cell_type": "code",
   "execution_count": 120,
   "metadata": {
    "id": "jV-8RS3X2uBF"
   },
   "outputs": [],
   "source": [
    "## Compute the association strength between:\n",
    "##   - a word w\n",
    "##   - two sets of attributes A and B\n",
    "\n",
    "def association_strength(w, A, B, vectors):\n",
    "    '''\n",
    "    Parameters:\n",
    "    w (string): word w\n",
    "    A (list of strings): The words belonging to set A\n",
    "    B (list of strings): The words belonging to set B\n",
    "    vectors (Python dict): {word (string): np-array of word vector}\n",
    "    \n",
    "    Returnrs: \n",
    "    strength (float): the value of the association strength \n",
    "    '''\n",
    "    \n",
    "    strength = 0.0\n",
    "    part_a = 0.0\n",
    "    part_b = 0.0 \n",
    "    \n",
    "    ## FILL CODE\n",
    "    part_a=np.sum([cosine(vectors[w],vectors[word]) for word in A])/len(A)\n",
    "    part_b=np.sum([cosine(vectors[w],vectors[word]) for word in B])/len(B)\n",
    "    strength=part_a-part_b\n",
    "    return strength"
   ]
  },
  {
   "cell_type": "code",
   "execution_count": 121,
   "metadata": {
    "id": "oS7e4lPC2uBG"
   },
   "outputs": [],
   "source": [
    "## Perform the word embedding association test between:\n",
    "##   - two sets of words X and Y\n",
    "##   - two sets of attributes A and B\n",
    "\n",
    "def weat(X, Y, A, B, vectors):\n",
    "    '''\n",
    "    Parameters:\n",
    "    X (list of strings): The words belonging to set X\n",
    "    Y (list of strings): The words belonging to set Y\n",
    "    A (list of strings): The words belonging to set A\n",
    "    B (list of strings): The words belonging to set B\n",
    "    vectors (Python dict): {word (string): np-array of word vector}\n",
    "    \n",
    "    Returns: \n",
    "    score (float): the value of the group association strength  \n",
    "    '''\n",
    "    score_X=np.sum([association_strength(w,A,B,vectors) for w in X])\n",
    "    score_Y=np.sum([association_strength(w,A,B,vectors) for w in Y])\n",
    "    score = score_X-score_Y\n",
    "    \n",
    "    ## FILL CODE\n",
    "\n",
    "    return score"
   ]
  },
  {
   "cell_type": "code",
   "execution_count": 122,
   "metadata": {
    "colab": {
     "base_uri": "https://localhost:8080/"
    },
    "id": "0oSoZ9ji2uBG",
    "outputId": "cb091ce5-5379-4cd6-f15c-2b6872a994a8"
   },
   "outputs": [
    {
     "name": "stdout",
     "output_type": "stream",
     "text": [
      "\n",
      "Word embedding association test: 0.847\n"
     ]
    }
   ],
   "source": [
    "## Replicate one of the experiments from:\n",
    "##\n",
    "## Semantics derived automatically from language corpora contain human-like biases\n",
    "## Caliskan, Bryson, Narayanan (2017)\n",
    "\n",
    "career = ['executive', 'management', 'professional', 'corporation', \n",
    "          'salary', 'office', 'business', 'career']\n",
    "family = ['home', 'parents', 'children', 'family',\n",
    "          'cousins', 'marriage', 'wedding', 'relatives']\n",
    "male = ['john', 'paul', 'mike', 'kevin', 'steve', 'greg', 'jeff', 'bill']\n",
    "female = ['amy', 'joan', 'lisa', 'sarah', 'diana', 'kate', 'ann', 'donna']\n",
    "\n",
    "print('')\n",
    "print('Word embedding association test: %.3f' %\n",
    "      weat(career, family, male, female, word_vectors))"
   ]
  },
  {
   "cell_type": "markdown",
   "metadata": {
    "id": "oZu6Va_x2uBG"
   },
   "source": [
    "## Word translation using word vectors\n",
    "\n",
    "In the following, we will use word vectors in English and French to translate words from English to French. The idea is to learn a linear function that maps English word vectors to their correponding French word vectors. To learn this linear mapping, we will use a small bilingual lexicon, that contains pairs of words in English and French that are translations of each other.\n",
    "\n",
    "The following function will load the small English-French bilingual lexicon:"
   ]
  },
  {
   "cell_type": "code",
   "execution_count": 79,
   "metadata": {
    "id": "lAkGPXbZ2uBG"
   },
   "outputs": [],
   "source": [
    "def load_lexicon(filename):\n",
    "    '''\n",
    "    Parameters:\n",
    "    filename(string): the path of the lexicon\n",
    "    \n",
    "    Returns:\n",
    "    data(list of pairs of string): the bilingual lexicon\n",
    "    '''\n",
    "    fin = io.open(filename, 'r', encoding='utf-8', newline='\\n')\n",
    "    data = []\n",
    "    for line in fin:\n",
    "        a, b = line.rstrip().split(' ')\n",
    "        data.append((a, b))\n",
    "    return data"
   ]
  },
  {
   "cell_type": "code",
   "execution_count": 80,
   "metadata": {
    "colab": {
     "base_uri": "https://localhost:8080/"
    },
    "id": "cd-d-Vj02uBH",
    "outputId": "6f75c570-eb87-42d9-f829-c0a804377a6d"
   },
   "outputs": [
    {
     "name": "stdout",
     "output_type": "stream",
     "text": [
      "[('the', 'le'), ('the', 'les'), ('the', 'la'), ('and', 'et'), ('was', 'fut')]\n"
     ]
    }
   ],
   "source": [
    "word_vectors_en = load_vectors('wiki.en.vec')\n",
    "word_vectors_fr = load_vectors('wiki.fr.vec')\n",
    "lexicon = load_lexicon(\"lexicon-en-fr.txt\")\n",
    "print(lexicon[:5])"
   ]
  },
  {
   "cell_type": "code",
   "execution_count": 91,
   "metadata": {
    "id": "6gqNpu5J2uBH"
   },
   "outputs": [],
   "source": [
    "# We split the lexicon into a train and validation set\n",
    "train = lexicon[:5000]\n",
    "valid = lexicon[5000:5100]"
   ]
  },
  {
   "cell_type": "markdown",
   "metadata": {
    "id": "SaPRKq0C2uBH"
   },
   "source": [
    "The following function will learn the mapping from English to French. The idea is to build two matrices $X_{\\text{en}}$ and $X_{\\text{fr}}$, and to find a mapping $M$ that minimizes $||X_{\\text{en}} W - X_{\\text{fr}} ||_2$. In numpy, this mapping can be obtained by using the `numpy.linalg.lstsq` function."
   ]
  },
  {
   "cell_type": "code",
   "execution_count": 138,
   "metadata": {
    "id": "EXmmTOVx2uBH"
   },
   "outputs": [],
   "source": [
    "def align(word_vectors_en, word_vectors_fr, lexicon):\n",
    "    '''\n",
    "    Parameters:\n",
    "    word_vectors_en(dict: string -> np.array): English word vectors\n",
    "    word_vectors_en(dict: string -> np.array): French word vectors\n",
    "    lexicon(list of pairs of string): bilingual training lexicon\n",
    "    \n",
    "    Returns\n",
    "    mapping(np.array): the mapping from English to French vectors\n",
    "    '''\n",
    "    x_en, x_fr = [], []\n",
    "    for i,j in lexicon:\n",
    "      x_en.append(i)\n",
    "      x_fr.append(j)\n",
    "    \n",
    "    en_matrix=np.array([list(word_vectors_en[keys]) for keys in x_en])\n",
    "    fr_matrix=np.array([list(word_vectors_fr[keys]) for keys in x_fr])\n",
    "    \n",
    "    mapping=np.linalg.lstsq(en_matrix,fr_matrix)[0]\n",
    "    return mapping"
   ]
  },
  {
   "cell_type": "code",
   "execution_count": 139,
   "metadata": {
    "colab": {
     "base_uri": "https://localhost:8080/"
    },
    "id": "ZD1HjH2-2uBH",
    "outputId": "957e4dbd-62a7-485f-8ff4-ffcd85c5ac82"
   },
   "outputs": [
    {
     "name": "stderr",
     "output_type": "stream",
     "text": [
      "/usr/local/lib/python3.7/dist-packages/ipykernel_launcher.py:19: FutureWarning: `rcond` parameter will change to the default of machine precision times ``max(M, N)`` where M and N are the input matrix dimensions.\n",
      "To use the future default and silence this warning we advise to pass `rcond=None`, to keep using the old, explicitly pass `rcond=-1`.\n"
     ]
    }
   ],
   "source": [
    "mapping = align(word_vectors_en, word_vectors_fr, lexicon)"
   ]
  },
  {
   "cell_type": "markdown",
   "metadata": {
    "id": "iKcxjNQK2uBH"
   },
   "source": [
    "Given a mapping, a set of word English word vector and French word vectors, the next function will translate the English word to French. To do so, we apply the mapping on the English word, and retrieve the nearest neighbor of the obtained vector in the set of French word vectors. The translation is then the corresponding French word."
   ]
  },
  {
   "cell_type": "code",
   "execution_count": 149,
   "metadata": {
    "colab": {
     "base_uri": "https://localhost:8080/"
    },
    "id": "4LD2oj3Rc9P7",
    "outputId": "2e562d93-d010-4287-bca2-fa8d59ec91b3"
   },
   "outputs": [
    {
     "data": {
      "text/plain": [
       "(300,)"
      ]
     },
     "execution_count": 149,
     "metadata": {},
     "output_type": "execute_result"
    }
   ],
   "source": [
    "(mapping@word_vectors_en['iris']).shape"
   ]
  },
  {
   "cell_type": "code",
   "execution_count": 152,
   "metadata": {
    "id": "BQ4-N1oJ2uBI"
   },
   "outputs": [],
   "source": [
    "def translate(word, word_vectors_en, word_vectors_fr, mapping):\n",
    "    '''\n",
    "    Parameters:\n",
    "    word(string): an English word\n",
    "    word_vectors_en(dict: string -> np.array): English word vectors\n",
    "    word_vectors_en(dict: string -> np.array): French word vectors\n",
    "    mapping(np.array): the mapping from English to French vectors\n",
    "    \n",
    "    Returns\n",
    "    A string containing the translation of the English word\n",
    "    '''\n",
    "    \n",
    "    ## FILL CODE\n",
    "    map_word=word_vectors_en[word]@mapping\n",
    "    near=nearest_neighbor(map_word,word_vectors_fr)\n",
    "\n",
    "\n",
    "    return near"
   ]
  },
  {
   "cell_type": "code",
   "execution_count": 153,
   "metadata": {
    "colab": {
     "base_uri": "https://localhost:8080/"
    },
    "id": "gnvNFYP12uBI",
    "outputId": "5fa0514f-e320-4072-ef14-cbf2afa2600d"
   },
   "outputs": [
    {
     "name": "stdout",
     "output_type": "stream",
     "text": [
      "monde\n",
      "machine\n",
      "apprentissage\n"
     ]
    }
   ],
   "source": [
    "print(translate(\"world\", word_vectors_en, word_vectors_fr, mapping))\n",
    "print(translate(\"machine\", word_vectors_en, word_vectors_fr, mapping))\n",
    "print(translate(\"learning\", word_vectors_en, word_vectors_fr, mapping))"
   ]
  },
  {
   "cell_type": "markdown",
   "metadata": {
    "id": "frHLJJXS2uBI"
   },
   "source": [
    "Finally, let's implement a function to evaluate this method on the validation lexicon:"
   ]
  },
  {
   "cell_type": "code",
   "execution_count": null,
   "metadata": {
    "id": "fYegohIb2uBI"
   },
   "outputs": [],
   "source": [
    "def evaluate(valid, word_vectors_en, word_vectors_fr, mapping):\n",
    "    '''\n",
    "    Parameters:\n",
    "    valid(a list of pairs of string): the validation lexicon\n",
    "    word_vectors_en(dict: string -> np.array): English word vectors\n",
    "    word_vectors_en(dict: string -> np.array): French word vectors\n",
    "    mapping(np.array): the mapping from English to French vectors\n",
    "    \n",
    "    Returns\n",
    "    Accuracy(float): the accuracy on the validation lexicon\n",
    "    '''\n",
    "    acc, n = 0.0, 0\n",
    "    \n",
    "    ## FILL CODE\n",
    "\n",
    "    return acc"
   ]
  },
  {
   "cell_type": "code",
   "execution_count": null,
   "metadata": {
    "id": "yQf_Psoo2uBI"
   },
   "outputs": [],
   "source": [
    "evaluate(valid, word_vectors_en, word_vectors_fr, mapping)"
   ]
  },
  {
   "cell_type": "code",
   "execution_count": null,
   "metadata": {
    "id": "ukhTKLsu2uBI"
   },
   "outputs": [],
   "source": []
  }
 ],
 "metadata": {
  "colab": {
   "collapsed_sections": [],
   "name": "Copy of intro_to_wordvectors.ipynb",
   "provenance": []
  },
  "kernelspec": {
   "display_name": "Python 3 (ipykernel)",
   "language": "python",
   "name": "python3"
  },
  "language_info": {
   "codemirror_mode": {
    "name": "ipython",
    "version": 3
   },
   "file_extension": ".py",
   "mimetype": "text/x-python",
   "name": "python",
   "nbconvert_exporter": "python",
   "pygments_lexer": "ipython3",
   "version": "3.9.7"
  }
 },
 "nbformat": 4,
 "nbformat_minor": 1
}
